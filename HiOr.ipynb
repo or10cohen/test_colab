{
  "nbformat": 4,
  "nbformat_minor": 0,
  "metadata": {
    "colab": {
      "provenance": [],
      "authorship_tag": "ABX9TyMPUEIvSFm1LIPthe1cIqir",
      "include_colab_link": true
    },
    "kernelspec": {
      "name": "python3",
      "display_name": "Python 3"
    },
    "language_info": {
      "name": "python"
    }
  },
  "cells": [
    {
      "cell_type": "markdown",
      "metadata": {
        "id": "view-in-github",
        "colab_type": "text"
      },
      "source": [
        "<a href=\"https://colab.research.google.com/github/or10cohen/test_colab/blob/main/HiOr.ipynb\" target=\"_parent\"><img src=\"https://colab.research.google.com/assets/colab-badge.svg\" alt=\"Open In Colab\"/></a>"
      ]
    },
    {
      "cell_type": "code",
      "execution_count": null,
      "metadata": {
        "id": "2QsZMWfCtihY",
        "colab": {
          "base_uri": "https://localhost:8080/"
        },
        "outputId": "39457b5f-33d7-4edf-cac1-a7a94607a6e1"
      },
      "outputs": [
        {
          "output_type": "stream",
          "name": "stdout",
          "text": [
            "HI or\n"
          ]
        }
      ],
      "source": [
        "print('HI or')"
      ]
    },
    {
      "cell_type": "code",
      "source": [
        "print('Hi oren')"
      ],
      "metadata": {
        "colab": {
          "base_uri": "https://localhost:8080/"
        },
        "id": "ghPB9Vruw3z0",
        "outputId": "ed134473-2d73-4913-f2b2-befa757fddee"
      },
      "execution_count": null,
      "outputs": [
        {
          "output_type": "stream",
          "name": "stdout",
          "text": [
            "Hi oren\n"
          ]
        }
      ]
    },
    {
      "cell_type": "code",
      "source": [
        "print('thank you')"
      ],
      "metadata": {
        "id": "e0jpS0P5w8p5"
      },
      "execution_count": null,
      "outputs": []
    },
    {
      "cell_type": "code",
      "source": [
        "print('test 1')"
      ],
      "metadata": {
        "id": "63RvbycDMhDH"
      },
      "execution_count": null,
      "outputs": []
    }
  ]
}